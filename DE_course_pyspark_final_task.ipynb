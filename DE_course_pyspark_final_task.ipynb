{
 "cells": [
  {
   "cell_type": "code",
   "execution_count": null,
   "id": "a0998e03-67e2-41ff-8975-4ec8d5837ad9",
   "metadata": {},
   "outputs": [],
   "source": [
    "from pyspark.sql import SparkSession\n",
    "from pyspark.sql.functions import col, count, sum as spark_sum, to_date, desc\n",
    "\n",
    "# Создание SparkSession\n",
    "spark = SparkSession.builder.appName(\"WebLogsAnalysis\").getOrCreate()\n",
    "\n",
    "# Загрузка данных\n",
    "logs_df = spark.read.csv(\"web_server_logs.csv\", header=True, inferSchema=True)\n",
    "\n",
    "# 1. Группировка по IP и подсчёт количества запросов для каждого IP\n",
    "ip_request_counts = logs_df.groupBy(\"ip\").agg(count(\"*\").alias(\"request_count\"))\n",
    "top_10_ips = ip_request_counts.orderBy(desc(\"request_count\")).limit(10)\n",
    "print(\"Топ-10 самых активных IP:\")\n",
    "top_10_ips.show()\n",
    "\n",
    "# 2. Группировка по HTTP-методу и подсчёт количества запросов для каждого метода\n",
    "method_request_counts = logs_df.groupBy(\"method\").agg(count(\"*\").alias(\"request_count\"))\n",
    "print(\"\\nКоличество запросов по HTTP-методам:\")\n",
    "method_request_counts.show()\n",
    "\n",
    "# 3. Фильтрация и подсчёт количества запросов с кодом ответа 404\n",
    "filtered_404 = logs_df.filter(col(\"response_code\") == 404)\n",
    "count_404 = filtered_404.count()\n",
    "print(f\"\\nКоличество запросов с кодом ответа 404: {count_404}\")\n",
    "\n",
    "# 4. Группировка по дате и суммирование размера ответов, сортировка по дате\n",
    "logs_df = logs_df.withColumn(\"date\", to_date(col(\"timestamp\")))\n",
    "daily_response_size = logs_df.groupBy(\"date\").agg(spark_sum(\"response_size\").alias(\"total_response_size\"))\n",
    "daily_response_size = daily_response_size.orderBy(\"date\")\n",
    "print(\"\\nСуммарный размер ответов по дням:\")\n",
    "daily_response_size.show()"
   ]
  },
  {
   "cell_type": "code",
   "execution_count": null,
   "id": "adec040c-122b-4464-8faa-fe7d8d81f511",
   "metadata": {},
   "outputs": [],
   "source": []
  }
 ],
 "metadata": {
  "kernelspec": {
   "display_name": "Python [conda env:base] *",
   "language": "python",
   "name": "conda-base-py"
  },
  "language_info": {
   "codemirror_mode": {
    "name": "ipython",
    "version": 3
   },
   "file_extension": ".py",
   "mimetype": "text/x-python",
   "name": "python",
   "nbconvert_exporter": "python",
   "pygments_lexer": "ipython3",
   "version": "3.12.7"
  }
 },
 "nbformat": 4,
 "nbformat_minor": 5
}
